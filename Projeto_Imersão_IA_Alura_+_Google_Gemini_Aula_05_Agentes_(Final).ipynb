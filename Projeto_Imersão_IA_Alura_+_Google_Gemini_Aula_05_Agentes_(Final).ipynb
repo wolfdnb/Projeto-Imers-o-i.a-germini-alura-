{
  "nbformat": 4,
  "nbformat_minor": 0,
  "metadata": {
    "colab": {
      "provenance": [],
      "include_colab_link": true
    },
    "kernelspec": {
      "name": "python3",
      "display_name": "Python 3"
    },
    "language_info": {
      "name": "python"
    }
  },
  "cells": [
    {
      "cell_type": "markdown",
      "metadata": {
        "id": "view-in-github",
        "colab_type": "text"
      },
      "source": [
        "<a href=\"https://colab.research.google.com/github/wolfdnb/Projeto-Imers-o-i.a-germini-alura-/blob/main/Projeto_Imers%C3%A3o_IA_Alura_%2B_Google_Gemini_Aula_05_Agentes_(Final).ipynb\" target=\"_parent\"><img src=\"https://colab.research.google.com/assets/colab-badge.svg\" alt=\"Open In Colab\"/></a>"
      ]
    },
    {
      "cell_type": "code",
      "source": [
        "%pip -q install google-genai"
      ],
      "metadata": {
        "id": "UCCbECexLk_h"
      },
      "execution_count": null,
      "outputs": []
    },
    {
      "cell_type": "code",
      "source": [
        "# Configura a API Key do Google Gemini\n",
        "\n",
        "import os\n",
        "from google.colab import userdata\n",
        "\n",
        "os.environ[\"GOOGLE_API_KEY\"] = userdata.get('GOOGLE_API_KEY')"
      ],
      "metadata": {
        "id": "NfCqHo1tLk8P"
      },
      "execution_count": null,
      "outputs": []
    },
    {
      "cell_type": "code",
      "source": [
        "# Configura o cliente da SDK do Gemini\n",
        "\n",
        "from google import genai\n",
        "\n",
        "client = genai.Client()\n",
        "\n",
        "MODEL_ID = \"gemini-2.0-flash\""
      ],
      "metadata": {
        "id": "bV4w0H5TLk5g"
      },
      "execution_count": null,
      "outputs": []
    },
    {
      "cell_type": "code",
      "source": [
        "# Pergunta ao Gemini uma informação mais recente que seu conhecimento\n",
        "\n",
        "from IPython.display import HTML, Markdown\n",
        "\n",
        "# Perguntar pro modelo quando é a próxima imersão de IA ###############################################\n",
        "resposta = client.models.generate_content(\n",
        "    model=MODEL_ID,\n",
        "    contents= \"cyber segurança no Brasil\",\n",
        ")\n",
        "\n",
        "# Exibe a resposta na tela\n",
        "display(Markdown(f\"resposta:\\n {resposta.text}\"))"
      ],
      "metadata": {
        "id": "Y9cBAz02xZt9",
        "colab": {
          "base_uri": "https://localhost:8080/",
          "height": 1000
        },
        "outputId": "36e076b7-4c71-4b5c-813e-601d55924e6b"
      },
      "execution_count": null,
      "outputs": [
        {
          "output_type": "display_data",
          "data": {
            "text/plain": [
              "<IPython.core.display.Markdown object>"
            ],
            "text/markdown": "resposta:\n A cibersegurança no Brasil é um tema de crescente importância, impulsionado pela rápida digitalização da sociedade e da economia. Aqui está um resumo dos principais aspectos:\n\n**Panorama Geral:**\n\n*   **Ameaças Cibernéticas:** O Brasil é um dos países mais afetados por crimes cibernéticos no mundo. As ameaças mais comuns incluem:\n    *   **Malware:** Vírus, worms, trojans e ransomware que infectam sistemas e podem roubar dados, danificar arquivos ou exigir resgate.\n    *   **Phishing:** E-mails, mensagens ou sites falsos que se passam por entidades legítimas para enganar as pessoas e obter informações confidenciais, como senhas e dados bancários.\n    *   **Ataques de Negação de Serviço (DDoS):** Ataques que sobrecarregam servidores e redes, tornando-os inacessíveis.\n    *   **Vazamento de Dados:** Exposição não autorizada de informações pessoais ou corporativas.\n    *   **Fraudes Online:** Golpes financeiros, roubo de identidade e outras atividades fraudulentas realizadas na internet.\n*   **Legislação:** O Brasil possui um arcabouço legal em desenvolvimento para lidar com crimes cibernéticos e proteger dados:\n    *   **Marco Civil da Internet (Lei nº 12.965/2014):** Estabelece princípios, garantias, direitos e deveres para o uso da internet no Brasil.\n    *   **Lei Geral de Proteção de Dados (LGPD - Lei nº 13.709/2018):** Regula o tratamento de dados pessoais por empresas e órgãos públicos, garantindo a privacidade e a proteção dos dados dos cidadãos.\n    *   **Lei Carolina Dieckmann (Lei nº 12.737/2012):** Tipifica crimes informáticos, como invasão de dispositivos e interrupção de serviços.\n*   **Infraestrutura:** O país tem investido em infraestrutura de segurança cibernética, incluindo centros de resposta a incidentes, programas de conscientização e parcerias público-privadas.\n*   **Conscientização:** A conscientização sobre cibersegurança ainda é um desafio no Brasil. Muitas pessoas e empresas não adotam práticas básicas de segurança, como usar senhas fortes, manter softwares atualizados e desconfiar de e-mails e links suspeitos.\n*   **Mercado:** O mercado de cibersegurança no Brasil está em crescimento, impulsionado pela demanda por soluções de proteção de dados, segurança de redes e consultoria especializada.\n\n**Desafios:**\n\n*   **Falta de Profissionais Qualificados:** Há uma escassez de profissionais de cibersegurança no Brasil, o que dificulta a proteção de empresas e órgãos públicos.\n*   **Implementação da LGPD:** A implementação da LGPD ainda é um desafio para muitas empresas, que precisam se adaptar às novas exigências de proteção de dados.\n*   **Ataques Sofisticados:** Os ataques cibernéticos estão se tornando cada vez mais sofisticados e difíceis de detectar e prevenir.\n*   **Conscientização:** Aumentar a conscientização sobre cibersegurança entre a população e as empresas é fundamental para reduzir o número de vítimas de crimes cibernéticos.\n\n**Recomendações:**\n\n*   **Para Empresas:**\n    *   Implementar políticas de segurança da informação.\n    *   Realizar treinamentos de conscientização para os funcionários.\n    *   Utilizar softwares de segurança atualizados.\n    *   Monitorar redes e sistemas em busca de atividades suspeitas.\n    *   Realizar backups regulares dos dados.\n    *   Ter um plano de resposta a incidentes.\n*   **Para Usuários:**\n    *   Usar senhas fortes e diferentes para cada conta.\n    *   Ativar a autenticação de dois fatores sempre que possível.\n    *   Desconfiar de e-mails e links suspeitos.\n    *   Manter o sistema operacional e os aplicativos atualizados.\n    *   Instalar um antivírus e mantê-lo atualizado.\n    *   Fazer backups regulares dos dados importantes.\n\n**Recursos Úteis:**\n\n*   **CERT.br (Centro de Estudos, Resposta e Tratamento de Incidentes de Segurança no Brasil):** [https://www.cert.br/](https://www.cert.br/)\n*   **Cartilha de Segurança para Internet:** [https://cartilha.cert.br/](https://cartilha.cert.br/)\n*   **Autoridade Nacional de Proteção de Dados (ANPD):** [https://www.gov.br/anpd/pt-br](https://www.gov.br/anpd/pt-br)\n\nSe você tiver alguma pergunta mais específica sobre cibersegurança no Brasil, por favor, me diga!\n"
          },
          "metadata": {}
        }
      ]
    },
    {
      "cell_type": "code",
      "source": [
        "# Pergunta ao Gemini uma informação utilizando a busca do Google como contexto\n",
        "\n",
        "response = client.models.generate_content(\n",
        "    model=MODEL_ID,\n",
        "    contents='cyber segurança atualmente',\n",
        "    config={\"tools\": [{\"google_search\": {}}]}\n",
        ")\n",
        "\n",
        "# Exibe a resposta na tela\n",
        "display(Markdown(f\"Resposta:\\n {response.text}\"))"
      ],
      "metadata": {
        "colab": {
          "base_uri": "https://localhost:8080/",
          "height": 1000
        },
        "id": "lc2JPA92xbnp",
        "outputId": "f15146f6-fed3-4fbc-e8aa-8bed7b903615"
      },
      "execution_count": null,
      "outputs": [
        {
          "output_type": "display_data",
          "data": {
            "text/plain": [
              "<IPython.core.display.Markdown object>"
            ],
            "text/markdown": "Resposta:\n Atualmente, a cibersegurança é um tema de extrema importância, impactando a forma como vivemos, trabalhamos e interagimos no mundo virtual.\n\n**Cenário Atual:**\n\n*   **Aumento das Ameaças:** O cenário atual revela um aumento nas ameaças cibernéticas, exigindo atenção redobrada de organizações e indivíduos para proteger suas informações.\n*   **Custos Crescentes:** Estima-se que o crime cibernético custará à economia mundial US$ 10,5 trilhões por ano até 2025. O custo médio de uma violação de dados aumentou para US$ 4,88 milhões em 2024, um aumento de 10% em relação a 2023.\n*   **Ataques Sofisticados:** Os cibercriminosos estão se tornando mais avançados, explorando novas tecnologias e criando ataques mais sofisticados.\n*   **Trabalho Remoto:** A mudança para o trabalho remoto expandiu as oportunidades para ataques cibernéticos, com novas vulnerabilidades e pontos fracos para os hackers explorarem.\n\n**O que é Cibersegurança?**\n\nA cibersegurança é o conjunto de práticas, tecnologias e medidas para proteger sistemas, programas, redes e equipamentos de invasões, garantindo que dados valiosos não vazem ou sejam violados em ataques cibernéticos. Envolve a proteção de ativos digitais, como computadores, redes, aplicações de software, sistemas essenciais e dados, contra ameaças digitais.\n\n**Por que a Cibersegurança é Importante?**\n\n*   **Proteção de Dados:** A cibersegurança protege dados sigilosos de acesso não autorizado, evitando roubo de identidade, extorsão pessoal e corporativa, perdas de informações confidenciais e dados críticos para os negócios.\n*   **Continuidade dos Negócios:** Evita interrupções nas operações comerciais causadas por atividades de rede indesejadas, mantendo a confiança do cliente e a capacidade financeira da empresa.\n*   **Conformidade Regulatória:** Garante o cumprimento de requisitos regulatórios para proteger dados e evitar sanções legais.\n*   **Reputação da Empresa:** Minimiza as consequências indesejadas de ataques cibernéticos que podem afetar a reputação da empresa e a confiança do cliente.\n\n**Tendências Atuais:**\n\n*   **Abordagem Proativa:** Necessidade de uma abordagem proativa na prevenção e resposta rápida a ataques cibernéticos.\n*   **Investimentos em Segurança Digital:** Importância de investimentos em segurança digital e adoção de práticas como sistemas de confiança zero e uso de inteligência artificial para reforçar a proteção contra invasores.\n*   **Segurança na Nuvem:** Adoção generalizada da computação em nuvem aumenta a complexidade do gerenciamento da rede e eleva o risco de configurações incorretas da nuvem, APIs protegidas de forma inadequada, e outros caminhos que os hackers podem explorar. A segurança na nuvem opera no modelo de responsabilidade compartilhada, onde o provedor de nuvem protege os serviços e a infraestrutura, enquanto o cliente protege seus dados e ativos armazenados na nuvem.\n\nEm resumo, a cibersegurança é essencial para proteger ativos digitais, garantir a continuidade dos negócios e manter a confiança dos clientes em um cenário de ameaças cibernéticas crescentes e sofisticadas.\n"
          },
          "metadata": {}
        }
      ]
    },
    {
      "cell_type": "code",
      "source": [
        "# Exibe a busca\n",
        "print(f\"Busca realizada: {response.candidates[0].grounding_metadata.web_search_queries}\")\n",
        "# Exibe as URLs nas quais ele se baseou\n",
        "print(f\"Páginas utilizadas na resposta: {', '.join([site.web.title for site in response.candidates[0].grounding_metadata.grounding_chunks])}\")\n",
        "print()\n",
        "display(HTML(response.candidates[0].grounding_metadata.search_entry_point.rendered_content))"
      ],
      "metadata": {
        "id": "6Cg0KNJGMgC5",
        "colab": {
          "base_uri": "https://localhost:8080/",
          "height": 136
        },
        "outputId": "1938f297-df45-4da1-c73f-b8633f04808c"
      },
      "execution_count": null,
      "outputs": [
        {
          "output_type": "stream",
          "name": "stdout",
          "text": [
            "Busca realizada: ['cyber segurança atual']\n",
            "Páginas utilizadas na resposta: dio.me, fia.com.br, ibm.com, claranet.com, amazon.com\n",
            "\n"
          ]
        },
        {
          "output_type": "display_data",
          "data": {
            "text/plain": [
              "<IPython.core.display.HTML object>"
            ],
            "text/html": [
              "<style>\n",
              ".container {\n",
              "  align-items: center;\n",
              "  border-radius: 8px;\n",
              "  display: flex;\n",
              "  font-family: Google Sans, Roboto, sans-serif;\n",
              "  font-size: 14px;\n",
              "  line-height: 20px;\n",
              "  padding: 8px 12px;\n",
              "}\n",
              ".chip {\n",
              "  display: inline-block;\n",
              "  border: solid 1px;\n",
              "  border-radius: 16px;\n",
              "  min-width: 14px;\n",
              "  padding: 5px 16px;\n",
              "  text-align: center;\n",
              "  user-select: none;\n",
              "  margin: 0 8px;\n",
              "  -webkit-tap-highlight-color: transparent;\n",
              "}\n",
              ".carousel {\n",
              "  overflow: auto;\n",
              "  scrollbar-width: none;\n",
              "  white-space: nowrap;\n",
              "  margin-right: -12px;\n",
              "}\n",
              ".headline {\n",
              "  display: flex;\n",
              "  margin-right: 4px;\n",
              "}\n",
              ".gradient-container {\n",
              "  position: relative;\n",
              "}\n",
              ".gradient {\n",
              "  position: absolute;\n",
              "  transform: translate(3px, -9px);\n",
              "  height: 36px;\n",
              "  width: 9px;\n",
              "}\n",
              "@media (prefers-color-scheme: light) {\n",
              "  .container {\n",
              "    background-color: #fafafa;\n",
              "    box-shadow: 0 0 0 1px #0000000f;\n",
              "  }\n",
              "  .headline-label {\n",
              "    color: #1f1f1f;\n",
              "  }\n",
              "  .chip {\n",
              "    background-color: #ffffff;\n",
              "    border-color: #d2d2d2;\n",
              "    color: #5e5e5e;\n",
              "    text-decoration: none;\n",
              "  }\n",
              "  .chip:hover {\n",
              "    background-color: #f2f2f2;\n",
              "  }\n",
              "  .chip:focus {\n",
              "    background-color: #f2f2f2;\n",
              "  }\n",
              "  .chip:active {\n",
              "    background-color: #d8d8d8;\n",
              "    border-color: #b6b6b6;\n",
              "  }\n",
              "  .logo-dark {\n",
              "    display: none;\n",
              "  }\n",
              "  .gradient {\n",
              "    background: linear-gradient(90deg, #fafafa 15%, #fafafa00 100%);\n",
              "  }\n",
              "}\n",
              "@media (prefers-color-scheme: dark) {\n",
              "  .container {\n",
              "    background-color: #1f1f1f;\n",
              "    box-shadow: 0 0 0 1px #ffffff26;\n",
              "  }\n",
              "  .headline-label {\n",
              "    color: #fff;\n",
              "  }\n",
              "  .chip {\n",
              "    background-color: #2c2c2c;\n",
              "    border-color: #3c4043;\n",
              "    color: #fff;\n",
              "    text-decoration: none;\n",
              "  }\n",
              "  .chip:hover {\n",
              "    background-color: #353536;\n",
              "  }\n",
              "  .chip:focus {\n",
              "    background-color: #353536;\n",
              "  }\n",
              "  .chip:active {\n",
              "    background-color: #464849;\n",
              "    border-color: #53575b;\n",
              "  }\n",
              "  .logo-light {\n",
              "    display: none;\n",
              "  }\n",
              "  .gradient {\n",
              "    background: linear-gradient(90deg, #1f1f1f 15%, #1f1f1f00 100%);\n",
              "  }\n",
              "}\n",
              "</style>\n",
              "<div class=\"container\">\n",
              "  <div class=\"headline\">\n",
              "    <svg class=\"logo-light\" width=\"18\" height=\"18\" viewBox=\"9 9 35 35\" fill=\"none\" xmlns=\"http://www.w3.org/2000/svg\">\n",
              "      <path fill-rule=\"evenodd\" clip-rule=\"evenodd\" d=\"M42.8622 27.0064C42.8622 25.7839 42.7525 24.6084 42.5487 23.4799H26.3109V30.1568H35.5897C35.1821 32.3041 33.9596 34.1222 32.1258 35.3448V39.6864H37.7213C40.9814 36.677 42.8622 32.2571 42.8622 27.0064V27.0064Z\" fill=\"#4285F4\"/>\n",
              "      <path fill-rule=\"evenodd\" clip-rule=\"evenodd\" d=\"M26.3109 43.8555C30.9659 43.8555 34.8687 42.3195 37.7213 39.6863L32.1258 35.3447C30.5898 36.3792 28.6306 37.0061 26.3109 37.0061C21.8282 37.0061 18.0195 33.9811 16.6559 29.906H10.9194V34.3573C13.7563 39.9841 19.5712 43.8555 26.3109 43.8555V43.8555Z\" fill=\"#34A853\"/>\n",
              "      <path fill-rule=\"evenodd\" clip-rule=\"evenodd\" d=\"M16.6559 29.8904C16.3111 28.8559 16.1074 27.7588 16.1074 26.6146C16.1074 25.4704 16.3111 24.3733 16.6559 23.3388V18.8875H10.9194C9.74388 21.2072 9.06992 23.8247 9.06992 26.6146C9.06992 29.4045 9.74388 32.022 10.9194 34.3417L15.3864 30.8621L16.6559 29.8904V29.8904Z\" fill=\"#FBBC05\"/>\n",
              "      <path fill-rule=\"evenodd\" clip-rule=\"evenodd\" d=\"M26.3109 16.2386C28.85 16.2386 31.107 17.1164 32.9095 18.8091L37.8466 13.8719C34.853 11.082 30.9659 9.3736 26.3109 9.3736C19.5712 9.3736 13.7563 13.245 10.9194 18.8875L16.6559 23.3388C18.0195 19.2636 21.8282 16.2386 26.3109 16.2386V16.2386Z\" fill=\"#EA4335\"/>\n",
              "    </svg>\n",
              "    <svg class=\"logo-dark\" width=\"18\" height=\"18\" viewBox=\"0 0 48 48\" xmlns=\"http://www.w3.org/2000/svg\">\n",
              "      <circle cx=\"24\" cy=\"23\" fill=\"#FFF\" r=\"22\"/>\n",
              "      <path d=\"M33.76 34.26c2.75-2.56 4.49-6.37 4.49-11.26 0-.89-.08-1.84-.29-3H24.01v5.99h8.03c-.4 2.02-1.5 3.56-3.07 4.56v.75l3.91 2.97h.88z\" fill=\"#4285F4\"/>\n",
              "      <path d=\"M15.58 25.77A8.845 8.845 0 0 0 24 31.86c1.92 0 3.62-.46 4.97-1.31l4.79 3.71C31.14 36.7 27.65 38 24 38c-5.93 0-11.01-3.4-13.45-8.36l.17-1.01 4.06-2.85h.8z\" fill=\"#34A853\"/>\n",
              "      <path d=\"M15.59 20.21a8.864 8.864 0 0 0 0 5.58l-5.03 3.86c-.98-2-1.53-4.25-1.53-6.64 0-2.39.55-4.64 1.53-6.64l1-.22 3.81 2.98.22 1.08z\" fill=\"#FBBC05\"/>\n",
              "      <path d=\"M24 14.14c2.11 0 4.02.75 5.52 1.98l4.36-4.36C31.22 9.43 27.81 8 24 8c-5.93 0-11.01 3.4-13.45 8.36l5.03 3.85A8.86 8.86 0 0 1 24 14.14z\" fill=\"#EA4335\"/>\n",
              "    </svg>\n",
              "    <div class=\"gradient-container\"><div class=\"gradient\"></div></div>\n",
              "  </div>\n",
              "  <div class=\"carousel\">\n",
              "    <a class=\"chip\" href=\"https://vertexaisearch.cloud.google.com/grounding-api-redirect/AbF9wXGnkgvxTwVYBs_8LKj7xh4mNK1OYDXlnJ-nGhrLJ-28rLtSMKbLRnPOISBD6cgnRnzF1fnTPp80TCkcQd1zW45fCNlrD2YkAt_9_4p8ozdkRHkbjYyJKuFIWBIBvKizOjuc0LTSXtjlsWQuQBqaxoinmuhnCUNluKPYguP0l3L1GbDsXr0CruAVQBAh9abbJvBpgkByveAnAkZO6dxf\">cyber segurança atual</a>\n",
              "  </div>\n",
              "</div>\n"
            ]
          },
          "metadata": {}
        }
      ]
    },
    {
      "cell_type": "code",
      "source": [
        "# Instalar Framework de agentes do Google ################################################\n",
        "!pip install -q google-adk"
      ],
      "metadata": {
        "colab": {
          "base_uri": "https://localhost:8080/"
        },
        "id": "a1eRPalxEnj7",
        "outputId": "e40546fc-9349-42ff-9a94-b8214cd78490"
      },
      "execution_count": null,
      "outputs": [
        {
          "output_type": "stream",
          "name": "stdout",
          "text": [
            "\u001b[2K   \u001b[90m━━━━━━━━━━━━━━━━━━━━━━━━━━━━━━━━━━━━━━━━\u001b[0m \u001b[32m1.2/1.2 MB\u001b[0m \u001b[31m15.7 MB/s\u001b[0m eta \u001b[36m0:00:00\u001b[0m\n",
            "\u001b[2K   \u001b[90m━━━━━━━━━━━━━━━━━━━━━━━━━━━━━━━━━━━━━━━━\u001b[0m \u001b[32m232.1/232.1 kB\u001b[0m \u001b[31m15.4 MB/s\u001b[0m eta \u001b[36m0:00:00\u001b[0m\n",
            "\u001b[2K   \u001b[90m━━━━━━━━━━━━━━━━━━━━━━━━━━━━━━━━━━━━━━━━\u001b[0m \u001b[32m95.2/95.2 kB\u001b[0m \u001b[31m7.0 MB/s\u001b[0m eta \u001b[36m0:00:00\u001b[0m\n",
            "\u001b[2K   \u001b[90m━━━━━━━━━━━━━━━━━━━━━━━━━━━━━━━━━━━━━━━━\u001b[0m \u001b[32m217.1/217.1 kB\u001b[0m \u001b[31m14.9 MB/s\u001b[0m eta \u001b[36m0:00:00\u001b[0m\n",
            "\u001b[2K   \u001b[90m━━━━━━━━━━━━━━━━━━━━━━━━━━━━━━━━━━━━━━━━\u001b[0m \u001b[32m334.1/334.1 kB\u001b[0m \u001b[31m19.7 MB/s\u001b[0m eta \u001b[36m0:00:00\u001b[0m\n",
            "\u001b[2K   \u001b[90m━━━━━━━━━━━━━━━━━━━━━━━━━━━━━━━━━━━━━━━━\u001b[0m \u001b[32m125.1/125.1 kB\u001b[0m \u001b[31m9.9 MB/s\u001b[0m eta \u001b[36m0:00:00\u001b[0m\n",
            "\u001b[2K   \u001b[90m━━━━━━━━━━━━━━━━━━━━━━━━━━━━━━━━━━━━━━━━\u001b[0m \u001b[32m65.8/65.8 kB\u001b[0m \u001b[31m4.7 MB/s\u001b[0m eta \u001b[36m0:00:00\u001b[0m\n",
            "\u001b[2K   \u001b[90m━━━━━━━━━━━━━━━━━━━━━━━━━━━━━━━━━━━━━━━━\u001b[0m \u001b[32m119.0/119.0 kB\u001b[0m \u001b[31m8.0 MB/s\u001b[0m eta \u001b[36m0:00:00\u001b[0m\n",
            "\u001b[2K   \u001b[90m━━━━━━━━━━━━━━━━━━━━━━━━━━━━━━━━━━━━━━━━\u001b[0m \u001b[32m194.9/194.9 kB\u001b[0m \u001b[31m13.4 MB/s\u001b[0m eta \u001b[36m0:00:00\u001b[0m\n",
            "\u001b[2K   \u001b[90m━━━━━━━━━━━━━━━━━━━━━━━━━━━━━━━━━━━━━━━━\u001b[0m \u001b[32m62.5/62.5 kB\u001b[0m \u001b[31m4.5 MB/s\u001b[0m eta \u001b[36m0:00:00\u001b[0m\n",
            "\u001b[2K   \u001b[90m━━━━━━━━━━━━━━━━━━━━━━━━━━━━━━━━━━━━━━━━\u001b[0m \u001b[32m103.3/103.3 kB\u001b[0m \u001b[31m7.1 MB/s\u001b[0m eta \u001b[36m0:00:00\u001b[0m\n",
            "\u001b[2K   \u001b[90m━━━━━━━━━━━━━━━━━━━━━━━━━━━━━━━━━━━━━━━━\u001b[0m \u001b[32m44.4/44.4 kB\u001b[0m \u001b[31m2.7 MB/s\u001b[0m eta \u001b[36m0:00:00\u001b[0m\n",
            "\u001b[2K   \u001b[90m━━━━━━━━━━━━━━━━━━━━━━━━━━━━━━━━━━━━━━━━\u001b[0m \u001b[32m72.0/72.0 kB\u001b[0m \u001b[31m5.4 MB/s\u001b[0m eta \u001b[36m0:00:00\u001b[0m\n",
            "\u001b[?25h"
          ]
        }
      ]
    },
    {
      "cell_type": "code",
      "execution_count": null,
      "metadata": {
        "id": "aePV2bdfDeoW"
      },
      "outputs": [],
      "source": [
        "from google.adk.agents import Agent\n",
        "from google.adk.runners import Runner\n",
        "from google.adk.sessions import InMemorySessionService\n",
        "from google.adk.tools import google_search\n",
        "from google.genai import types  # Para criar conteúdos (Content e Part)\n",
        "from datetime import date\n",
        "import textwrap # Para formatar melhor a saída de texto\n",
        "from IPython.display import display, Markdown # Para exibir texto formatado no Colab\n",
        "import requests # Para fazer requisições HTTP\n",
        "import warnings\n",
        "\n",
        "warnings.filterwarnings(\"ignore\")"
      ]
    },
    {
      "cell_type": "code",
      "source": [
        "# Função auxiliar que envia uma mensagem para um agente via Runner e retorna a resposta final\n",
        "def call_agent(agent: Agent, message_text: str) -> str:\n",
        "    # Cria um serviço de sessão em memória\n",
        "    session_service = InMemorySessionService()\n",
        "    # Cria uma nova sessão (você pode personalizar os IDs conforme necessário)\n",
        "    session = session_service.create_session(app_name=agent.name, user_id=\"user1\", session_id=\"session1\")\n",
        "    # Cria um Runner para o agente\n",
        "    runner = Runner(agent=agent, app_name=agent.name, session_service=session_service)\n",
        "    # Cria o conteúdo da mensagem de entrada\n",
        "    content = types.Content(role=\"user\", parts=[types.Part(text=message_text)])\n",
        "\n",
        "    final_response = \"\"\n",
        "    # Itera assincronamente pelos eventos retornados durante a execução do agente\n",
        "    for event in runner.run(user_id=\"user1\", session_id=\"session1\", new_message=content):\n",
        "        if event.is_final_response():\n",
        "          for part in event.content.parts:\n",
        "            if part.text is not None:\n",
        "              final_response += part.text\n",
        "              final_response += \"\\n\"\n",
        "    return final_response"
      ],
      "metadata": {
        "id": "_xP4lWhsS5ko"
      },
      "execution_count": null,
      "outputs": []
    },
    {
      "cell_type": "code",
      "source": [
        "# Função auxiliar para exibir texto formatado em Markdown no Colab\n",
        "def to_markdown(text):\n",
        "  text = text.replace('•', '  *')\n",
        "  return Markdown(textwrap.indent(text, '> ', predicate=lambda _: True))"
      ],
      "metadata": {
        "id": "8dosiodaxfFR"
      },
      "execution_count": null,
      "outputs": []
    },
    {
      "cell_type": "code",
      "source": [
        "##########################################\n",
        "# --- Agente 1: Buscador de Notícias --- #\n",
        "##########################################\n",
        "def agente_buscador(topico, data_de_hoje):\n",
        "\n",
        "    buscador = Agent(\n",
        "        name=\"agente_buscador\",\n",
        "        model=\"gemini-2.0-flash\",\n",
        "        instruction=\"\"\"\n",
        "        Você é um assistente de pesquisa. A sua tarefa é usar a ferramenta de busca do google (google_search)\n",
        "        para recuperar as últimas notícias de lançamentos muito relevantes sobre o tópico abaixo.\n",
        "        Foque em no máximo 5 lançamentos relevantes, com base na quantidade e entusiasmo das notícias sobre ele.\n",
        "        Se um tema tiver poucas notícias ou reações entusiasmadas, é possível que ele não seja tão relevante assim\n",
        "        e pode ser substituído por outro que tenha mais.\n",
        "        Esses lançamentos relevantes devem ser atuais, de no máximo um mês antes da data de hoje.\n",
        "        \"\"\",\n",
        "        description=\"Agente que busca informações no Google\",\n",
        "        tools=[google_search]\n",
        "    )\n",
        "\n",
        "    entrada_do_agente_buscador = f\"Tópico: {topico}\\nData de hoje: {data_de_hoje}\"\n",
        "\n",
        "    lancamentos = call_agent(buscador, entrada_do_agente_buscador)\n",
        "    return lancamentos"
      ],
      "metadata": {
        "id": "o8bqIfi_DyH8"
      },
      "execution_count": null,
      "outputs": []
    },
    {
      "cell_type": "code",
      "source": [
        "################################################\n",
        "# --- Agente 2: Planejador de posts --- #\n",
        "################################################\n",
        "def agente_planejador(topico, lancamentos_buscados):\n",
        "    planejador = Agent(\n",
        "        name=\"agente_planejador\",\n",
        "        model=\"gemini-2.0-flash\",\n",
        "        # Inserir as instruções do Agente Planejador #################################################\n",
        "        instruction=\"\"\"\n",
        "        Você é um planejador de conteúdo, especialista em redes sociais. Com base na lista de\n",
        "        lançamentos mais recentes e relevantes buscador, você deve:\n",
        "        usar a ferramenta de busca do Google (google_search) para criar um plano sobre\n",
        "        quais são os pontos mais relevantes que poderíamos abordar em um post sobre\n",
        "        cada um deles. Você também pode usar o (google_search) para encontrar mais\n",
        "        informações sobre os temas e aprofundar.\n",
        "        Ao final, você irá escolher o tema mais relevante entre eles com base nas suas pesquisas\n",
        "        e retornar esse tema, seus pontos mais relevantes, e um plano com os assuntos\n",
        "        a serem abordados no post que será escrito posteriormente.\n",
        "        \"\"\",\n",
        "        description=\"Agente que planeja posts\",\n",
        "        tools=[google_search]\n",
        "    )\n",
        "\n",
        "    entrada_do_agente_planejador = f\"Tópico:{topico}\\nLançamentos buscados: {lancamentos_buscados}\"\n",
        "    # Executa o agente\n",
        "    plano_do_post = call_agent(planejador, entrada_do_agente_planejador)\n",
        "    return plano_do_post"
      ],
      "metadata": {
        "id": "y3VO1uo5_ghO"
      },
      "execution_count": null,
      "outputs": []
    },
    {
      "cell_type": "code",
      "source": [
        "######################################\n",
        "# --- Agente 3: Redator do Post --- #\n",
        "######################################\n",
        "def agente_redator(topico, plano_de_post):\n",
        "    redator = Agent(\n",
        "        name=\"agente_redator\",\n",
        "        model= \"gemini-2.0-flash\",\n",
        "        instruction=\"\"\"\n",
        "            Você é um Redator Criativo especializado em criar posts virais para redes sociais.\n",
        "            Você escreve posts para a empresas no ramo de cyber segurança,\n",
        "            Utilize o tema fornecido no plano de post e os pontos mais relevantes fornecidos e, com base nisso,\n",
        "            escreva um rascunho de post para Instagram sobre o tema indicado.\n",
        "            O post deve ser engajador, informativo, com linguagem simples e incluir 2 a 4 hashtags no final.\n",
        "            \"\"\",\n",
        "        description=\"Agente redator de posts engajadores para Instagram\"\n",
        "    )\n",
        "    entrada_do_agente_redator = f\"Tópico: {topico}\\nPlano de post: {plano_de_post}\"\n",
        "    # Executa o agente\n",
        "    rascunho = call_agent(redator, entrada_do_agente_redator)\n",
        "    return rascunho"
      ],
      "metadata": {
        "id": "uOqlg2TRLVh1"
      },
      "execution_count": null,
      "outputs": []
    },
    {
      "cell_type": "code",
      "source": [
        "##########################################\n",
        "# --- Agente 4: Revisor de Qualidade --- #\n",
        "##########################################\n",
        "def agente_revisor(topico, rascunho_gerado):\n",
        "    revisor = Agent(\n",
        "        name=\"agente_revisor\",\n",
        "        model= \"gemini-2.0-flash\",\n",
        "        instruction=\"\"\"\n",
        "            Você é um Editor e Revisor de Conteúdo meticuloso, especializado em posts para redes sociais, com foco no Instagram.\n",
        "            Por ter um público jovem, entre 18 e 30 anos, use um tom de escrita adequado.\n",
        "            Revise o rascunho de post de Instagram abaixo sobre o tópico indicado, verificando clareza, concisão, correção e tom.\n",
        "            Se o rascunho estiver bom, responda apenas 'O rascunho está ótimo e pronto para publicar!'.\n",
        "            Caso haja problemas, aponte-os e sugira melhorias.\n",
        "            \"\"\",\n",
        "        description=\"Agente revisor de post para redes sociais.\"\n",
        "    )\n",
        "    entrada_do_agente_revisor = f\"Tópico: {topico}\\nRascunho: {rascunho_gerado}\"\n",
        "    # Executa o agente\n",
        "    texto_revisado = call_agent(revisor, entrada_do_agente_revisor)\n",
        "    return texto_revisado"
      ],
      "metadata": {
        "id": "_aTb1SdkLeT6"
      },
      "execution_count": null,
      "outputs": []
    },
    {
      "cell_type": "code",
      "source": [
        "data_de_hoje = date.today().strftime(\"%d/%m/%Y\")\n",
        "\n",
        "print(\"🚀 Iniciando o Sistema de Criação de Posts para Instagram com 4 Agentes 🚀\")\n",
        "\n",
        "# --- Obter o Tópico do Usuário ---\n",
        "topico = input(\"❓ Por favor, digite o TÓPICO sobre o qual você quer criar o post de tendências: \")\n",
        "\n",
        "# Inserir lógica do sistema de agentes ################################################\n",
        "if not topico:\n",
        "    print(\"Você esqueceu de digitar o tópico!\")\n",
        "else:\n",
        "    print(f\"Maravilha! Vamos então criar o post sobre novidades em {topico}\")\n",
        "\n",
        "    lancamentos_buscados = agente_buscador(topico, data_de_hoje)\n",
        "    print(\"\\n--- 📝 Resultado do Agente 1 (Buscador) ---\\n\")\n",
        "    display(to_markdown(lancamentos_buscados))\n",
        "    print(\"--------------------------------------------------------------\")\n",
        "\n",
        "    plano_de_post = agente_planejador(topico, lancamentos_buscados)\n",
        "    print(\"\\n--- 📝 Resultado do Agente 2 (Planejador) ---\\n\")\n",
        "    display(to_markdown(plano_de_post))\n",
        "    print(\"--------------------------------------------------------------\")\n",
        "\n",
        "    rascunho_de_post = agente_redator(topico, plano_de_post)\n",
        "    print(\"\\n--- 📝 Resultado do Agente 3 (Redator) ---\\n\")\n",
        "    display(to_markdown(rascunho_de_post))\n",
        "    print(\"--------------------------------------------------------------\")\n",
        "\n",
        "    post_final = agente_revisor(topico, rascunho_de_post)\n",
        "    print(\"\\n--- 📝 Resultado do Agente 4 (Revisor) ---\\n\")\n",
        "    display(to_markdown(post_final))\n",
        "    print(\"--------------------------------------------------------------\")"
      ],
      "metadata": {
        "colab": {
          "base_uri": "https://localhost:8080/",
          "height": 1000
        },
        "id": "6xzI6LKzxxnN",
        "outputId": "529d11b6-4824-45df-d60a-67a124baabfd"
      },
      "execution_count": null,
      "outputs": [
        {
          "output_type": "stream",
          "name": "stdout",
          "text": [
            "🚀 Iniciando o Sistema de Criação de Posts para Instagram com 4 Agentes 🚀\n",
            "❓ Por favor, digite o TÓPICO sobre o qual você quer criar o post de tendências: Progamacao cyber segurança \n",
            "Maravilha! Vamos então criar o post sobre novidades em Progamacao cyber segurança \n",
            "\n",
            "--- 📝 Resultado do Agente 1 (Buscador) ---\n",
            "\n"
          ]
        },
        {
          "output_type": "display_data",
          "data": {
            "text/plain": [
              "<IPython.core.display.Markdown object>"
            ],
            "text/markdown": "> Aqui estão alguns lançamentos recentes e relevantes nas áreas de programação e segurança cibernética, com foco em eventos que ocorreram aproximadamente no último mês:\n> \n> \n> Com base nas minhas buscas, aqui estão alguns lançamentos e eventos recentes e relevantes nas áreas de programação e segurança cibernética:\n> \n> 1.  **Conferências de Cibersegurança 2025:** Várias conferências estão agendadas globalmente, incluindo a Cúpula de Segurança e Identidade Zero Trust em Amsterdão (maio), o Simpósio IEEE sobre Segurança e Privacidade em São Francisco (maio), o Congresso Mundial de Soluções IOT em Barcelona (maio) e o InCyber Forum Americas em San Antonio, TX (junho).\n> 2.  **Cyber Stability Conference 2025:** Organizada pela UNIDIR, esta conferência aborda as crescentes ameaças cibernéticas e visa fortalecer a paz e a segurança internacionais. O tema deste ano é \"Crise Evitada: Resiliência Cibernética em Ação\". O evento ocorreu a 12 de maio de 2025, em Genebra, e online.\n> 3.  **IT Security Summit 2025 - Porto:** Este evento, que já aconteceu em 14 de maio no Porto, focou-se em temas como NIS2, proteção de infraestruturas críticas, risco ciberresiliência e cibersegurança na era da Inteligência Artificial.\n> 4.  **C-DAYS 2025:** Organizado pelo Centro Nacional de Cibersegurança (CNCS), este evento nacional de referência na área da cibersegurança visa reforçar as melhores práticas e criar um ciberespaço nacional mais resiliente. A 11ª edição tem como tema central \"+Resiliência\". As candidaturas para apresentações, workshops e posters estão abertas até 28 de maio de 2025.\n> 5.  **Sirena Human Risk & Cybersec Conference:** Aconteceu em 29 de maio de 2025, em São Paulo. Esta conferência focou-se na conscientização sobre o risco humano e a cibersegurança, com uma abordagem centrada nas pessoas e sua cultura de segurança.\n> \n> Além destes eventos, é importante notar que os orçamentos de cibersegurança deverão crescer 40% em 2025, com os investimentos a aumentarem entre 20% e 30% nos próximos meses. A descentralização das operações criminosas é apontada como uma das tendências emergentes.\n"
          },
          "metadata": {}
        },
        {
          "output_type": "stream",
          "name": "stdout",
          "text": [
            "--------------------------------------------------------------\n",
            "\n",
            "--- 📝 Resultado do Agente 2 (Planejador) ---\n",
            "\n"
          ]
        },
        {
          "output_type": "display_data",
          "data": {
            "text/plain": [
              "<IPython.core.display.Markdown object>"
            ],
            "text/markdown": "> Okay, com base nos lançamentos e eventos recentes em programação e cibersegurança, vou criar um plano para posts em redes sociais.\n> \n> **1. Conferências de Cibersegurança 2025:**\n> \n> *   **Pontos Relevantes:**\n>     *   Diversidade geográfica (Amsterdão, São Francisco, Barcelona, San Antonio).\n>     *   Variedade de temas (Zero Trust, Segurança e Privacidade, IoT, InCyber).\n>     *   Oportunidade para profissionais se manterem atualizados e fazerem networking.\n> \n> *   **Possíveis Assuntos para o Post:**\n>     *   Destaque das principais conferências, com links para inscrição e informações adicionais.\n>     *   Resumo dos temas centrais abordados em cada conferência.\n>     *   Enquete: \"Qual conferência de cibersegurança você gostaria de participar em 2025?\"\n>     *   Conteúdo direcionado para diferentes interesses (Zero Trust, IoT, etc.).\n> \n> **2. Cyber Stability Conference 2025:**\n> \n> *   **Pontos Relevantes:**\n>     *   Organizada pela UNIDIR, com foco em paz e segurança internacional.\n>     *   Tema central: \"Crise Evitada: Resiliência Cibernética em Ação\".\n>     *   Formato híbrido (Genebra e online).\n> \n> *   **Possíveis Assuntos para o Post:**\n>     *   Explicação da importância da estabilidade cibernética para a segurança global.\n>     *   Discussão sobre o conceito de resiliência cibernética e como implementá-lo.\n>     *   Resumo dos principais insights e discussões da conferência.\n>     *   Link para o site da UNIDIR e materiais da conferência.\n> \n> **3. IT Security Summit 2025 - Porto:**\n> \n> *   **Pontos Relevantes:**\n>     *   Foco em temas como NIS2, proteção de infraestruturas críticas, risco ciberresiliência e IA.\n>     *   Evento já realizado, mas com conteúdo relevante para discussão.\n> \n> *   **Possíveis Assuntos para o Post:**\n>     *   Resumo dos principais temas abordados no evento.\n>     *   Discussão sobre a importância da NIS2 e seu impacto nas empresas.\n>     *   Exploração do papel da Inteligência Artificial na cibersegurança.\n>     *   Enquete: \"Qual a maior prioridade em cibersegurança para sua empresa em 2025?\" (com opções como NIS2, proteção de infraestruturas críticas, etc.).\n> \n> **4. C-DAYS 2025:**\n> \n> *   **Pontos Relevantes:**\n>     *   Organizado pelo Centro Nacional de Cibersegurança (CNCS).\n>     *   Foco em \"+Resiliência\".\n>     *   Abertura de candidaturas para apresentações, workshops e posters.\n> \n> *   **Possíveis Assuntos para o Post:**\n>     *   Divulgação do evento e seu tema central.\n>     *   Convite para a submissão de propostas de apresentações, workshops e posters.\n>     *   Explicação do conceito de resiliência no contexto da cibersegurança nacional.\n>     *   Destaque da importância do CNCS e suas iniciativas.\n> \n> **5. Sirena Human Risk & Cybersec Conference:**\n> \n> *   **Pontos Relevantes:**\n>     *   Foco na conscientização sobre o risco humano e a cibersegurança.\n>     *   Abordagem centrada nas pessoas e sua cultura de segurança.\n> \n> *   **Possíveis Assuntos para o Post:**\n>     *   Discussão sobre a importância do fator humano na cibersegurança.\n>     *   Dicas para aumentar a conscientização sobre riscos cibernéticos entre os funcionários.\n>     *   Exploração de como criar uma cultura de segurança forte dentro de uma organização.\n>     *   Enquete: \"Qual o maior desafio para aumentar a conscientização sobre cibersegurança em sua empresa?\"\n> \n> **Análise e Escolha do Tema Mais Relevante:**\n> \n> Considerando a abrangência e o potencial de engajamento, o tema mais relevante para um post é **\"C-DAYS 2025\"**. Este evento, organizado pelo Centro Nacional de Cibersegurança (CNCS), tem um foco claro em \"+Resiliência\" e oferece oportunidades para a comunidade de cibersegurança participar ativamente.\n> \n> **Plano de Assuntos para o Post sobre C-DAYS 2025:**\n> \n> 1.  **Introdução:**\n>     *   Apresentar o C-DAYS 2025 como o evento nacional de referência em cibersegurança.\n>     *   Destacar a importância do evento para o fortalecimento das melhores práticas e a criação de um ciberespaço nacional mais resiliente.\n> \n> 2.  **Tema Central: +Resiliência:**\n>     *   Explicar o que significa resiliência no contexto da cibersegurança.\n>     *   Discutir a importância da resiliência para enfrentar as crescentes ameaças cibernéticas.\n>     *   Apresentar exemplos de como as organizações podem aumentar sua resiliência cibernética.\n> \n> 3.  **Chamada para Ação:**\n>     *   Informar sobre a abertura de candidaturas para apresentações, workshops e posters até 28 de maio de 2025.\n>     *   Incentivar a participação da comunidade de cibersegurança no evento.\n>     *   Fornecer links para o site do evento e o formulário de inscrição.\n> \n> 4.  **CNCS e a Cibersegurança Nacional:**\n>     *   Destacar o papel do CNCS na promoção da cibersegurança em Portugal.\n>     *   Mencionar outras iniciativas e projetos do CNCS.\n> \n> 5.  **Encerramento:**\n>     *   Reiterar a importância do C-DAYS 2025 para a cibersegurança nacional.\n>     *   Convidar os seguidores a compartilhar suas expectativas para o evento.\n> \n> Com este plano, o post terá um conteúdo informativo, relevante e com uma clara chamada para ação, incentivando o engajamento da comunidade de cibersegurança.\n> \n> Para complementar, farei algumas buscas adicionais no Google para refinar ainda mais o conteúdo do post:\n> \n> Com as informações adicionais, podemos enriquecer ainda mais o post sobre o C-DAYS 2025:\n> \n> *   **O que é Resiliência Cibernética?** Incluir uma definição clara e concisa de resiliência cibernética, com base nas fontes do Google: \"a capacidade da organização de prevenir, resistir e se recuperar de incidentes de segurança cibernética\" (IBM) ou \"a capacidade de uma organização de se preparar, responder e se recuperar de ataques cibernéticos, desastres naturais e outras interrupções\" (Pure Storage). Mencionar os 4 pilares principais: prevenção, detecção, resposta e recuperação.\n> \n> *   **Áreas de Atuação do CNCS:** Detalhar as seis áreas de atuação do CNCS que serão abordadas no C-DAYS 2025: Sensibilização, Formação e Treino; Desenvolvimento de Capacidades; Conhecimento Situacional; Prevenção e Resposta a Incidentes; Regulação e Supervisão; Certificação em Cibersegurança.\n> \n> *   **Público-Alvo:** Ressaltar que o evento é aberto ao público e gratuito, e se destina a um público diversificado, abrangendo os setores público e privado, decisores, gestores, técnicos, especialistas, académicos, sociedade civil e cidadãos de todas as idades.\n> \n> *   **Iniciativas do CNCS:** Mencionar outras iniciativas importantes do CNCS, como o Cyber Security Challenge PT, o Mês Europeu da Cibersegurança e os cursos de e-learning gratuitos.\n> \n> Ao incorporar esses elementos adicionais, o post se tornará ainda mais completo, informativo e valioso para a comunidade de cibersegurança.\n> \n"
          },
          "metadata": {}
        },
        {
          "output_type": "stream",
          "name": "stdout",
          "text": [
            "--------------------------------------------------------------\n",
            "\n",
            "--- 📝 Resultado do Agente 3 (Redator) ---\n",
            "\n"
          ]
        },
        {
          "output_type": "display_data",
          "data": {
            "text/plain": [
              "<IPython.core.display.Markdown object>"
            ],
            "text/markdown": "> 🚨 Atenção, profissionais de cibersegurança! 🚨\n> \n> O maior evento nacional de cibersegurança está chegando: C-DAYS 2025, organizado pelo Centro Nacional de Cibersegurança (CNCS)! 🚀\n> \n> 🗓️ Salve a data: [Inserir data do evento]\n> 📍 Local: [Inserir local do evento]\n> \n> Este ano, o foco é em \"+Resiliência\": a capacidade de prevenir, resistir e se recuperar de incidentes cibernéticos. 💪\n> \n> 🛡️ O que esperar?\n> *   Palestras e workshops com especialistas.\n> *   Discussões sobre os 4 pilares da resiliência: prevenção, detecção, resposta e recuperação.\n> *   Oportunidades de networking com os melhores do setor.\n> \n> 📣 Quer apresentar seu projeto? As candidaturas para apresentações, workshops e posters estão abertas até 28 de maio de 2025! Não perca essa chance!\n> \n> 🔗 Saiba mais e inscreva-se: [Inserir link do site do evento]\n> \n> O CNCS está na linha de frente da cibersegurança em Portugal, com iniciativas em Sensibilização, Formação, Prevenção e muito mais! 🇵🇹\n> \n> Compartilhe suas expectativas para o C-DAYS 2025 nos comentários! 👇\n> \n> #Cibersegurança #ResilienciaCibernetica #CNCS #CDAYS2025\n> \n"
          },
          "metadata": {}
        },
        {
          "output_type": "stream",
          "name": "stdout",
          "text": [
            "--------------------------------------------------------------\n",
            "\n",
            "--- 📝 Resultado do Agente 4 (Revisor) ---\n",
            "\n"
          ]
        },
        {
          "output_type": "display_data",
          "data": {
            "text/plain": [
              "<IPython.core.display.Markdown object>"
            ],
            "text/markdown": "> O rascunho está bom, mas podemos otimizar alguns pontos para torná-lo mais atrativo para o público do Instagram:\n> \n> *   **Emojis:** Use mais emojis para quebrar o texto e chamar a atenção.\n> *   **Linguagem:** Simplifique um pouco a linguagem para torná-la mais acessível e menos formal.\n> *   **Chamada para ação:** Deixe a chamada para ação mais direta e engajadora.\n> *   **Hashtags:** Adicione hashtags mais específicas e populares.\n> *   **Formatação:** Quebre o texto em parágrafos menores para facilitar a leitura no celular.\n> \n> **Sugestão de revisão:**\n> \n> 🚨 Alerta de evento TOP para quem é da cibersegurança! 🚨\n> \n> Tá chegando o C-DAYS 2025, o maior evento de cibersegurança do país, organizado pelo Centro Nacional de Cibersegurança (CNCS)! 🚀\n> \n> 🗓️ Anota aí: \\[Inserir data do evento]\n> 📍 Onde vai ser: \\[Inserir local do evento]\n> \n> Esse ano o tema é \"+Resiliência\": bora aprender a se defender e dar a volta por cima nos ataques cibernéticos! 💪\n> \n> 🛡️ O que te espera?\n> *   Palestras e workshops com os maiores feras da área. 🎤\n> *   Debates sobre como fortalecer a prevenção, a detecção, a resposta e a recuperação. 🧠\n> *   Networking pra trocar ideias e fazer contatos. 🤝\n> \n> 📣 Quer mostrar seu talento? As inscrições para apresentar projetos, workshops e posters vão até 28 de maio de 2025! Corre que dá tempo! 😉\n> \n> 🔗 Inscreva-se e saiba tudo: \\[Inserir link do site do evento]\n> \n> O CNCS tá sempre na batalha pela nossa segurança online, com projetos de educação, prevenção e muito mais! 🇵🇹\n> \n> E aí, o que você espera do C-DAYS 2025? Conta pra gente nos comentários! 👇\n> \n> \\#CibersegurançaBrasil #ResilienciaCibernetica #CNCS #CDAYS2025 #Cybersecurity #SegurançaDigital #InovaçãoTecnologica\n"
          },
          "metadata": {}
        },
        {
          "output_type": "stream",
          "name": "stdout",
          "text": [
            "--------------------------------------------------------------\n"
          ]
        }
      ]
    }
  ]
}